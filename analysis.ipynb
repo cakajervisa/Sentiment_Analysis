{
 "cells": [
  {
   "cell_type": "code",
   "execution_count": 17,
   "metadata": {},
   "outputs": [],
   "source": [
    "import pandas as pd\n",
    "import numpy as np\n",
    "pd.options.mode.chained_assignment = None "
   ]
  },
  {
   "cell_type": "code",
   "execution_count": 2,
   "metadata": {},
   "outputs": [],
   "source": [
    "df = pd.read_csv('../datasets/preprocessed/preprocessed_full.csv')"
   ]
  },
  {
   "cell_type": "code",
   "execution_count": 3,
   "metadata": {},
   "outputs": [
    {
     "data": {
      "text/plain": [
       "(20384, 5)"
      ]
     },
     "execution_count": 3,
     "metadata": {},
     "output_type": "execute_result"
    }
   ],
   "source": [
    "df.shape"
   ]
  },
  {
   "cell_type": "markdown",
   "metadata": {},
   "source": [
    "### Positive and negative comment count\n",
    "0 - negative, \n",
    "1 - positive,\n",
    "-1 - neutral\n",
    "\n",
    "More negative comments so far"
   ]
  },
  {
   "cell_type": "code",
   "execution_count": 4,
   "metadata": {},
   "outputs": [
    {
     "data": {
      "text/plain": [
       "-1    10712\n",
       " 0     5307\n",
       " 1     4365\n",
       "Name: rating, dtype: int64"
      ]
     },
     "execution_count": 4,
     "metadata": {},
     "output_type": "execute_result"
    }
   ],
   "source": [
    "df.rating.value_counts()"
   ]
  },
  {
   "cell_type": "code",
   "execution_count": 5,
   "metadata": {},
   "outputs": [],
   "source": [
    "positive = df.loc[df.rating == 1]\n",
    "negative = df.loc[df.rating == 0]"
   ]
  },
  {
   "cell_type": "code",
   "execution_count": 6,
   "metadata": {},
   "outputs": [
    {
     "data": {
      "text/html": [
       "<div>\n",
       "<style scoped>\n",
       "    .dataframe tbody tr th:only-of-type {\n",
       "        vertical-align: middle;\n",
       "    }\n",
       "\n",
       "    .dataframe tbody tr th {\n",
       "        vertical-align: top;\n",
       "    }\n",
       "\n",
       "    .dataframe thead th {\n",
       "        text-align: right;\n",
       "    }\n",
       "</style>\n",
       "<table border=\"1\" class=\"dataframe\">\n",
       "  <thead>\n",
       "    <tr style=\"text-align: right;\">\n",
       "      <th></th>\n",
       "      <th>comment_id</th>\n",
       "      <th>video_id</th>\n",
       "      <th>date</th>\n",
       "      <th>body</th>\n",
       "      <th>rating</th>\n",
       "    </tr>\n",
       "  </thead>\n",
       "  <tbody>\n",
       "    <tr>\n",
       "      <th>117</th>\n",
       "      <td>UgzHduB8hJNtSSVQJ-t4AaABAg</td>\n",
       "      <td>ItYOdWRo0JY</td>\n",
       "      <td>2019-03-01T09:31:58Z</td>\n",
       "      <td>good</td>\n",
       "      <td>1</td>\n",
       "    </tr>\n",
       "    <tr>\n",
       "      <th>144</th>\n",
       "      <td>UgxB4Ya7EeXjnL2gXrF4AaABAg</td>\n",
       "      <td>ItYOdWRo0JY</td>\n",
       "      <td>2019-02-11T13:52:23Z</td>\n",
       "      <td>nice</td>\n",
       "      <td>1</td>\n",
       "    </tr>\n",
       "    <tr>\n",
       "      <th>229</th>\n",
       "      <td>UgwTHUgTPBxRu8bz6-l4AaABAg</td>\n",
       "      <td>ItYOdWRo0JY</td>\n",
       "      <td>2019-01-30T12:56:09Z</td>\n",
       "      <td>you kind person</td>\n",
       "      <td>1</td>\n",
       "    </tr>\n",
       "    <tr>\n",
       "      <th>273</th>\n",
       "      <td>UgjVVUkF3LLWNXgCoAEC</td>\n",
       "      <td>PpcNQNJmU9Y</td>\n",
       "      <td>2016-07-14T00:24:28Z</td>\n",
       "      <td>looks good</td>\n",
       "      <td>1</td>\n",
       "    </tr>\n",
       "    <tr>\n",
       "      <th>277</th>\n",
       "      <td>UgzhYX7nMHIoIuivJKB4AaABAg</td>\n",
       "      <td>ItYOdWRo0JY</td>\n",
       "      <td>2019-01-26T09:37:00Z</td>\n",
       "      <td>cool</td>\n",
       "      <td>1</td>\n",
       "    </tr>\n",
       "    <tr>\n",
       "      <th>284</th>\n",
       "      <td>UgxPU2G_yciQFog8CNx4AaABAg</td>\n",
       "      <td>YSVLsQ6VBdM</td>\n",
       "      <td>2018-01-12T04:21:53Z</td>\n",
       "      <td>laugh yeah great performances with they tried ...</td>\n",
       "      <td>1</td>\n",
       "    </tr>\n",
       "    <tr>\n",
       "      <th>347</th>\n",
       "      <td>Ugy7yj_9Ra6e6ba8DDx4AaABAg</td>\n",
       "      <td>FY8T06A-j_c</td>\n",
       "      <td>2019-02-09T20:21:38Z</td>\n",
       "      <td>dude funny</td>\n",
       "      <td>1</td>\n",
       "    </tr>\n",
       "    <tr>\n",
       "      <th>390</th>\n",
       "      <td>Ugxm1szLhsMtuYNTUGZ4AaABAg</td>\n",
       "      <td>FY8T06A-j_c</td>\n",
       "      <td>2017-12-14T16:09:43Z</td>\n",
       "      <td>commentator funny laugh</td>\n",
       "      <td>1</td>\n",
       "    </tr>\n",
       "    <tr>\n",
       "      <th>400</th>\n",
       "      <td>UgzOHFJe0u0LQfcYK_J4AaABAg</td>\n",
       "      <td>FY8T06A-j_c</td>\n",
       "      <td>2017-12-14T15:23:15Z</td>\n",
       "      <td>hard admit cringementator gettin better each d...</td>\n",
       "      <td>1</td>\n",
       "    </tr>\n",
       "    <tr>\n",
       "      <th>405</th>\n",
       "      <td>UgySn7yTSWAwIBabrEx4AaABAg</td>\n",
       "      <td>FY8T06A-j_c</td>\n",
       "      <td>2017-12-14T14:11:20Z</td>\n",
       "      <td>man legend</td>\n",
       "      <td>1</td>\n",
       "    </tr>\n",
       "  </tbody>\n",
       "</table>\n",
       "</div>"
      ],
      "text/plain": [
       "                     comment_id     video_id                  date  \\\n",
       "117  UgzHduB8hJNtSSVQJ-t4AaABAg  ItYOdWRo0JY  2019-03-01T09:31:58Z   \n",
       "144  UgxB4Ya7EeXjnL2gXrF4AaABAg  ItYOdWRo0JY  2019-02-11T13:52:23Z   \n",
       "229  UgwTHUgTPBxRu8bz6-l4AaABAg  ItYOdWRo0JY  2019-01-30T12:56:09Z   \n",
       "273        UgjVVUkF3LLWNXgCoAEC  PpcNQNJmU9Y  2016-07-14T00:24:28Z   \n",
       "277  UgzhYX7nMHIoIuivJKB4AaABAg  ItYOdWRo0JY  2019-01-26T09:37:00Z   \n",
       "284  UgxPU2G_yciQFog8CNx4AaABAg  YSVLsQ6VBdM  2018-01-12T04:21:53Z   \n",
       "347  Ugy7yj_9Ra6e6ba8DDx4AaABAg  FY8T06A-j_c  2019-02-09T20:21:38Z   \n",
       "390  Ugxm1szLhsMtuYNTUGZ4AaABAg  FY8T06A-j_c  2017-12-14T16:09:43Z   \n",
       "400  UgzOHFJe0u0LQfcYK_J4AaABAg  FY8T06A-j_c  2017-12-14T15:23:15Z   \n",
       "405  UgySn7yTSWAwIBabrEx4AaABAg  FY8T06A-j_c  2017-12-14T14:11:20Z   \n",
       "\n",
       "                                                  body  rating  \n",
       "117                                               good       1  \n",
       "144                                               nice       1  \n",
       "229                                    you kind person       1  \n",
       "273                                         looks good       1  \n",
       "277                                               cool       1  \n",
       "284  laugh yeah great performances with they tried ...       1  \n",
       "347                                         dude funny       1  \n",
       "390                            commentator funny laugh       1  \n",
       "400  hard admit cringementator gettin better each d...       1  \n",
       "405                                         man legend       1  "
      ]
     },
     "execution_count": 6,
     "metadata": {},
     "output_type": "execute_result"
    }
   ],
   "source": [
    "positive.head(10)"
   ]
  },
  {
   "cell_type": "code",
   "execution_count": 13,
   "metadata": {},
   "outputs": [
    {
     "name": "stdout",
     "output_type": "stream",
     "text": [
      "<class 'pandas.core.frame.DataFrame'>\n",
      "RangeIndex: 20384 entries, 0 to 20383\n",
      "Data columns (total 5 columns):\n",
      " #   Column      Non-Null Count  Dtype \n",
      "---  ------      --------------  ----- \n",
      " 0   comment_id  20384 non-null  object\n",
      " 1   video_id    20384 non-null  object\n",
      " 2   date        20384 non-null  object\n",
      " 3   body        20232 non-null  object\n",
      " 4   rating      20384 non-null  int64 \n",
      "dtypes: int64(1), object(4)\n",
      "memory usage: 796.4+ KB\n"
     ]
    }
   ],
   "source": [
    "df.info()"
   ]
  },
  {
   "cell_type": "code",
   "execution_count": 18,
   "metadata": {},
   "outputs": [],
   "source": [
    "positive.body = positive.body.astype(str)\n",
    "negative.body = negative.body.astype(str)"
   ]
  },
  {
   "cell_type": "markdown",
   "metadata": {},
   "source": [
    "### Average comment length"
   ]
  },
  {
   "cell_type": "code",
   "execution_count": 19,
   "metadata": {},
   "outputs": [
    {
     "data": {
      "text/plain": [
       "37.35166093928981"
      ]
     },
     "execution_count": 19,
     "metadata": {},
     "output_type": "execute_result"
    }
   ],
   "source": [
    "positive.body.apply(len).mean()"
   ]
  },
  {
   "cell_type": "code",
   "execution_count": 20,
   "metadata": {},
   "outputs": [
    {
     "data": {
      "text/plain": [
       "40.18409647635199"
      ]
     },
     "execution_count": 20,
     "metadata": {},
     "output_type": "execute_result"
    }
   ],
   "source": [
    "negative.body.apply(len).mean()"
   ]
  },
  {
   "cell_type": "markdown",
   "metadata": {},
   "source": [
    "### Most frequently occuring words\n",
    "The most occuring words are stop words, which carry no sentiment and should be removed."
   ]
  },
  {
   "cell_type": "code",
   "execution_count": 21,
   "metadata": {},
   "outputs": [
    {
     "data": {
      "text/plain": [
       "love       760\n",
       "you        632\n",
       "good       606\n",
       "best       521\n",
       "not        452\n",
       "like       422\n",
       "song       302\n",
       "game       271\n",
       "movie      270\n",
       "its        262\n",
       "still      245\n",
       "laugh      242\n",
       "video      238\n",
       "one        217\n",
       "ever       195\n",
       "rewind     194\n",
       "me         187\n",
       "great      183\n",
       "all        175\n",
       "trailer    168\n",
       "better     159\n",
       "amazing    154\n",
       "im         151\n",
       "be         151\n",
       "️          151\n",
       "funny      139\n",
       "he         136\n",
       "than       135\n",
       "why        134\n",
       "nice       133\n",
       "dtype: int64"
      ]
     },
     "execution_count": 21,
     "metadata": {},
     "output_type": "execute_result"
    }
   ],
   "source": [
    "positive.body.str.split(expand=True).stack().value_counts().head(30)"
   ]
  },
  {
   "cell_type": "code",
   "execution_count": 22,
   "metadata": {},
   "outputs": [
    {
     "data": {
      "text/plain": [
       "you        1656\n",
       "not         776\n",
       "fuck        478\n",
       "like        370\n",
       "shit        339\n",
       "laugh       289\n",
       "he          289\n",
       "what        277\n",
       "bad         266\n",
       "fake        258\n",
       "fucking     251\n",
       "no          242\n",
       "its         242\n",
       "video       235\n",
       "im          233\n",
       "have        221\n",
       "be          205\n",
       "they        200\n",
       "why         193\n",
       "still       192\n",
       "me          186\n",
       "how         186\n",
       "with        185\n",
       "all         182\n",
       "people      181\n",
       "up          172\n",
       "news        161\n",
       "movie       160\n",
       "hate        160\n",
       "stupid      157\n",
       "dtype: int64"
      ]
     },
     "execution_count": 22,
     "metadata": {},
     "output_type": "execute_result"
    }
   ],
   "source": [
    "negative.body.str.split(expand=True).stack().value_counts().head(30)"
   ]
  }
 ],
 "metadata": {
  "kernelspec": {
   "display_name": "Python 3",
   "language": "python",
   "name": "python3"
  },
  "language_info": {
   "codemirror_mode": {
    "name": "ipython",
    "version": 3
   },
   "file_extension": ".py",
   "mimetype": "text/x-python",
   "name": "python",
   "nbconvert_exporter": "python",
   "pygments_lexer": "ipython3",
   "version": "3.7.8"
  }
 },
 "nbformat": 4,
 "nbformat_minor": 4
}
