{
 "cells": [
  {
   "cell_type": "code",
   "execution_count": 1,
   "id": "mediterranean-cargo",
   "metadata": {},
   "outputs": [],
   "source": [
    "import pandas as pd\n",
    "pd.options.mode.chained_assignment = None\n",
    "import numpy as np\n",
    "\n",
    "from tensorflow.keras.models import Sequential\n",
    "from tensorflow.keras.layers import Dense, Embedding, LSTM, Dropout, Activation, Bidirectional, Conv1D, MaxPooling1D\n",
    "from keras.layers.merge import concatenate\n",
    "from keras.preprocessing import sequence\n",
    "from tensorflow.keras.models import Model\n",
    "from tensorflow.keras.callbacks import EarlyStopping, ModelCheckpoint\n",
    "from tensorflow.keras.optimizers import Adam\n",
    "\n",
    "from sklearn.model_selection import train_test_split\n",
    "from sklearn.model_selection import StratifiedKFold\n",
    "from sklearn.metrics import accuracy_score\n",
    "from sklearn.metrics import precision_score\n",
    "from sklearn.metrics import recall_score\n",
    "from sklearn.metrics import f1_score\n",
    "from sklearn.metrics import confusion_matrix\n",
    "\n",
    "import os, sys\n",
    "module_path = os.path.abspath(os.path.join('../..'))\n",
    "if module_path not in sys.path:\n",
    "    sys.path.append(module_path)\n",
    "from util.dataprep import get_vectors, get_data\n",
    "\n",
    "import tensorflow as tf\n",
    "import matplotlib.pyplot as plt\n",
    "from matplotlib.backends.backend_pdf import PdfPages\n",
    "\n",
    "import warnings\n",
    "warnings.filterwarnings('ignore')"
   ]
  },
  {
   "cell_type": "code",
   "execution_count": 2,
   "id": "removed-transcript",
   "metadata": {},
   "outputs": [],
   "source": [
    "# To calculate on GPU\n",
    "# https://github.com/tensorflow/tensorflow/issues/33721\n",
    "TF_FORCE_GPU_ALLOW_GROWTH=1\n",
    "physical_devices = tf.config.list_physical_devices('GPU')\n",
    "tf.config.experimental.set_memory_growth(physical_devices[0], True)\n",
    "import os\n",
    "os.environ[\"TF_FORCE_GPU_ALLOW_GROWTH\"]=\"true\""
   ]
  },
  {
   "cell_type": "code",
   "execution_count": 3,
   "id": "exciting-greece",
   "metadata": {},
   "outputs": [],
   "source": [
    "# CONSTANTS\n",
    "seed = 42\n",
    "lr = 0.0001\n",
    "batch = 64"
   ]
  },
  {
   "cell_type": "code",
   "execution_count": 4,
   "id": "polar-ribbon",
   "metadata": {},
   "outputs": [],
   "source": [
    "X_train, y_train, X_test, y_test, X_val, y_val, vocab_size, emdedding_size, vectors = get_data()"
   ]
  },
  {
   "cell_type": "code",
   "execution_count": 5,
   "id": "embedded-glasgow",
   "metadata": {},
   "outputs": [
    {
     "name": "stdout",
     "output_type": "stream",
     "text": [
      "Train labels:  Counter({1: 3021, 0: 3020})\n",
      "Test labels:  Counter({0: 863, 1: 863})\n",
      "Val labels:  Counter({0: 432, 1: 431})\n"
     ]
    }
   ],
   "source": [
    "# check if the data is evenly split\n",
    "import collections\n",
    "print('Train labels: ', collections.Counter(y_train))\n",
    "print('Test labels: ', collections.Counter(y_test))\n",
    "print('Val labels: ', collections.Counter(y_val))"
   ]
  },
  {
   "cell_type": "code",
   "execution_count": 6,
   "id": "unknown-medicare",
   "metadata": {},
   "outputs": [],
   "source": [
    "train_max = X_train.max()\n",
    "test_max = X_test.max()\n",
    "val_max = X_val.max()\n",
    "max_all = max([train_max, test_max, val_max])\n",
    "input_dim = max_all+1\n",
    "output_dim = 32"
   ]
  },
  {
   "cell_type": "code",
   "execution_count": 7,
   "id": "after-cheese",
   "metadata": {},
   "outputs": [],
   "source": [
    "# Concatinate train and validation to be used in cross validation\n",
    "Xtrain_concat = np.concatenate((X_train,X_val),axis=0)\n",
    "ytrain_concat = np.concatenate((y_train,y_val),axis=0)"
   ]
  },
  {
   "cell_type": "code",
   "execution_count": 8,
   "id": "engaged-arnold",
   "metadata": {},
   "outputs": [],
   "source": [
    "# Cross validation setup\n",
    "sk = StratifiedKFold(n_splits = 3, random_state = seed, shuffle = True) "
   ]
  },
  {
   "cell_type": "code",
   "execution_count": 9,
   "id": "artificial-determination",
   "metadata": {},
   "outputs": [],
   "source": [
    "early_stopping = EarlyStopping(monitor='val_loss', patience=4)"
   ]
  },
  {
   "cell_type": "code",
   "execution_count": 10,
   "id": "random-vinyl",
   "metadata": {},
   "outputs": [],
   "source": [
    "adamOptimizer = Adam(lr=lr)"
   ]
  },
  {
   "cell_type": "code",
   "execution_count": 11,
   "id": "blank-transsexual",
   "metadata": {},
   "outputs": [],
   "source": [
    "def plot_history(history_arrs, train, val, xlabel, ylabel, plot_title, modelname):\n",
    "    pp = PdfPages(modelname)\n",
    "    plt.figure()\n",
    "    history = history_arrs[0]\n",
    "    plt.plot(history[train])\n",
    "    plt.plot(history[val])\n",
    "    plt.title(plot_title)\n",
    "    plt.ylabel(ylabel)\n",
    "    plt.xlabel(xlabel)\n",
    "    plt.legend(['Train', 'Validation'], loc='upper left')\n",
    "    pp.savefig()\n",
    "    plt.show()\n",
    "    pp.close()"
   ]
  },
  {
   "cell_type": "code",
   "execution_count": 12,
   "id": "received-entity",
   "metadata": {},
   "outputs": [],
   "source": [
    "def run_test(model_func, Xtrain, ytrain, embedding_layer):\n",
    "    results = []\n",
    "    best_acc = 0\n",
    "    for i,(train_index, val_index)in enumerate(sk.split(Xtrain, ytrain)):\n",
    "        if embedding_layer == 'nowv':\n",
    "            el = Embedding(input_dim, output_dim, trainable = True)\n",
    "        elif embedding_layer == 'wv':\n",
    "            el = Embedding(input_dim=vocab_size, output_dim=emdedding_size, embeddings_initializer=tf.keras.initializers.Constant(vectors), trainable=False)\n",
    "        Xt, Xv = Xtrain[train_index], Xtrain[val_index]\n",
    "        yt, yv = ytrain[train_index], ytrain[val_index]\n",
    "        model = model_func(el)\n",
    "        history = model.fit(Xt, yt, epochs=15, batch_size=batch, verbose = 0)\n",
    "        loss, acc = model.evaluate(Xv, yv, verbose=0, batch_size=batch)\n",
    "        print('Accuracy for iteration %d: %.4f' % (i, acc))\n",
    "        results.append(acc)\n",
    "    results = np.array(results)\n",
    "    return results"
   ]
  },
  {
   "cell_type": "code",
   "execution_count": 13,
   "id": "charitable-blind",
   "metadata": {},
   "outputs": [],
   "source": [
    "def create_model(embedding_layer):\n",
    "    model = Sequential()\n",
    "    model.add(embedding_layer)\n",
    "    model.add(Conv1D(128, 2))\n",
    "    model.add(Conv1D(64, 2))\n",
    "    model.add(MaxPooling1D(2))\n",
    "    model.add(Bidirectional(LSTM(128)))\n",
    "    model.add(Dense(1, activation='sigmoid'))\n",
    "    model.compile(loss = 'binary_crossentropy', optimizer=adamOptimizer, metrics = ['accuracy'])\n",
    "    return model"
   ]
  },
  {
   "cell_type": "code",
   "execution_count": 14,
   "id": "muslim-sense",
   "metadata": {},
   "outputs": [],
   "source": [
    "def calculate_metrics(model, X_test, y_test):\n",
    "    ypred_class = model.predict_classes(X_test, verbose=0)\n",
    "    ypred_class = ypred_class[:, 0]\n",
    "    accuracy = accuracy_score(y_test, ypred_class)\n",
    "    precision = precision_score(y_test, ypred_class)\n",
    "    recall = recall_score(y_test, ypred_class)\n",
    "    f1 = f1_score(y_test, ypred_class)\n",
    "    conf_matrix = confusion_matrix(y_test, ypred_class)\n",
    "    return accuracy, precision, recall, f1, conf_matrix"
   ]
  },
  {
   "cell_type": "code",
   "execution_count": 15,
   "id": "lined-statement",
   "metadata": {},
   "outputs": [],
   "source": [
    "def print_conf_matrix(conf_matrix):\n",
    "    cm = pd.DataFrame(\n",
    "    conf_matrix, \n",
    "    index=['true:positive', 'true:negative'], \n",
    "    columns=['pred:positive', 'pred:negative']\n",
    "    )\n",
    "    print(cm)"
   ]
  },
  {
   "cell_type": "markdown",
   "id": "shaped-fight",
   "metadata": {},
   "source": [
    "Cross-validation without pretrained word vectors"
   ]
  },
  {
   "cell_type": "code",
   "execution_count": 16,
   "id": "accompanied-psychology",
   "metadata": {},
   "outputs": [
    {
     "name": "stdout",
     "output_type": "stream",
     "text": [
      "Accuracy for iteration 0: 0.8627\n",
      "Accuracy for iteration 1: 0.8605\n",
      "Accuracy for iteration 2: 0.8527\n",
      "Average model 1 accuracy of cross validation without word vectors: 0.8586\n",
      "Standard deviation of the accuracy: 0.0043\n",
      "The best model 1 accuracy of cross validation without word vectors: 0.8627\n"
     ]
    }
   ],
   "source": [
    "results = run_test(create_model, Xtrain_concat, ytrain_concat, 'nowv')\n",
    "print('Average model 1 accuracy of cross validation without word vectors: %.4f' % results.mean())\n",
    "print('Standard deviation of the accuracy: %.4f' % np.std(results))\n",
    "print('The best model 1 accuracy of cross validation without word vectors: %.4f' % results.max())"
   ]
  },
  {
   "cell_type": "markdown",
   "id": "configured-forth",
   "metadata": {},
   "source": [
    "Evaluation without pretrained word vectors"
   ]
  },
  {
   "cell_type": "code",
   "execution_count": 17,
   "id": "velvet-invitation",
   "metadata": {},
   "outputs": [
    {
     "data": {
      "image/png": "[encoded data removed]",
      "text/plain": [
       "<Figure size 432x288 with 1 Axes>"
      ]
     },
     "metadata": {
      "needs_background": "light"
     },
     "output_type": "display_data"
    },
    {
     "data": {
      "image/png": "[encoded data removed]",
      "text/plain": [
       "<Figure size 432x288 with 1 Axes>"
      ]
     },
     "metadata": {
      "needs_background": "light"
     },
     "output_type": "display_data"
    },
    {
     "name": "stdout",
     "output_type": "stream",
     "text": [
      "Model statistics with class predictions: \n",
      "Accuracy: 0.8621\n",
      "Precision: 0.8539\n",
      "Recall: 0.8737\n",
      "F1 score: 0.8637\n",
      "Confusion matrix:\n",
      "               pred:positive  pred:negative\n",
      "true:positive            734            129\n",
      "true:negative            109            754\n"
     ]
    }
   ],
   "source": [
    "embedding_layer = Embedding(input_dim, output_dim, trainable = True)\n",
    "model = create_model(embedding_layer)\n",
    "history = model.fit(X_train, y_train, validation_data=(X_val, y_val), epochs=30, batch_size=batch, verbose = 0, callbacks=[early_stopping])\n",
    "# Accuracy\n",
    "plot_history([history.history], 'accuracy', 'val_accuracy', 'Epoch', 'Accuracy', 'Training accuracy', 'cnnbilstm1-nowv-acc.pdf') \n",
    "# Loss\n",
    "plot_history([history.history], 'loss', 'val_loss', 'Epoch', 'Loss', 'Training loss', 'cnnbilstm1-nowv-loss.pdf')\n",
    "acc, precision, recall, f1, conf_matrix = calculate_metrics(model, X_test, y_test)\n",
    "print('Model statistics with class predictions: ')\n",
    "print('Accuracy: %.4f' % acc)\n",
    "print('Precision: %.4f' % precision)\n",
    "print('Recall: %.4f' % recall)\n",
    "print('F1 score: %.4f' % f1)\n",
    "print('Confusion matrix:')\n",
    "print_conf_matrix(conf_matrix)"
   ]
  },
  {
   "cell_type": "code",
   "execution_count": 18,
   "id": "involved-malawi",
   "metadata": {},
   "outputs": [
    {
     "name": "stderr",
     "output_type": "stream",
     "text": [
      "WARNING:absl:Found untraced functions such as lstm_cell_10_layer_call_fn, lstm_cell_10_layer_call_and_return_conditional_losses, lstm_cell_11_layer_call_fn, lstm_cell_11_layer_call_and_return_conditional_losses, lstm_cell_10_layer_call_fn while saving (showing 5 of 10). These functions will not be directly callable after loading.\n",
      "WARNING:absl:Found untraced functions such as lstm_cell_10_layer_call_fn, lstm_cell_10_layer_call_and_return_conditional_losses, lstm_cell_11_layer_call_fn, lstm_cell_11_layer_call_and_return_conditional_losses, lstm_cell_10_layer_call_fn while saving (showing 5 of 10). These functions will not be directly callable after loading.\n"
     ]
    },
    {
     "name": "stdout",
     "output_type": "stream",
     "text": [
      "INFO:tensorflow:Assets written to: ../../models/models/cnnbilstm-nowv\\assets\n"
     ]
    },
    {
     "name": "stderr",
     "output_type": "stream",
     "text": [
      "INFO:tensorflow:Assets written to: ../../models/models/cnnbilstm-nowv\\assets\n"
     ]
    }
   ],
   "source": [
    "# Save the model (weights, architecture)\n",
    "model.save('../../models/models/cnnbilstm-nowv')"
   ]
  },
  {
   "cell_type": "markdown",
   "id": "interstate-southwest",
   "metadata": {},
   "source": [
    "Cross-validation with pretrained word vectors"
   ]
  },
  {
   "cell_type": "code",
   "execution_count": 19,
   "id": "healthy-atlas",
   "metadata": {},
   "outputs": [
    {
     "name": "stdout",
     "output_type": "stream",
     "text": [
      "Accuracy for iteration 0: 0.8853\n",
      "Accuracy for iteration 1: 0.8696\n",
      "Accuracy for iteration 2: 0.8727\n",
      "Average model 1 accuracy of cross validation without word vectors: 0.8759\n",
      "Standard deviation of the accuracy: 0.0068\n",
      "The best model 1 accuracy of cross validation without word vectors: 0.8853\n"
     ]
    }
   ],
   "source": [
    "results = run_test(create_model, Xtrain_concat, ytrain_concat, 'wv')\n",
    "print('Average model 1 accuracy of cross validation without word vectors: %.4f' % results.mean())\n",
    "print('Standard deviation of the accuracy: %.4f' % np.std(results))\n",
    "print('The best model 1 accuracy of cross validation without word vectors: %.4f' % results.max())"
   ]
  },
  {
   "cell_type": "markdown",
   "id": "postal-income",
   "metadata": {},
   "source": [
    "Evaluation with pretrained word vectors"
   ]
  },
  {
   "cell_type": "code",
   "execution_count": 20,
   "id": "alone-tension",
   "metadata": {},
   "outputs": [
    {
     "data": {
      "image/png": "[encoded data removed]",
      "text/plain": [
       "<Figure size 432x288 with 1 Axes>"
      ]
     },
     "metadata": {
      "needs_background": "light"
     },
     "output_type": "display_data"
    },
    {
     "data": {
      "image/png": "[encoded data removed]",
      "text/plain": [
       "<Figure size 432x288 with 1 Axes>"
      ]
     },
     "metadata": {
      "needs_background": "light"
     },
     "output_type": "display_data"
    },
    {
     "name": "stdout",
     "output_type": "stream",
     "text": [
      "Model statistics with class predictions: \n",
      "Accuracy: 0.8830\n",
      "Precision: 0.8830\n",
      "Recall: 0.8830\n",
      "F1 score: 0.8830\n",
      "Confusion matrix:\n",
      "               pred:positive  pred:negative\n",
      "true:positive            762            101\n",
      "true:negative            101            762\n"
     ]
    }
   ],
   "source": [
    "embedding_layer = Embedding(input_dim=vocab_size, output_dim=emdedding_size, embeddings_initializer=tf.keras.initializers.Constant(vectors), trainable=False)\n",
    "model = create_model(embedding_layer)\n",
    "history = model.fit(X_train, y_train, validation_data=(X_val, y_val), epochs=30, batch_size=batch, verbose = 0, callbacks=[early_stopping])\n",
    "# Accuracy\n",
    "plot_history([history.history], 'accuracy', 'val_accuracy', 'Epoch', 'Accuracy', 'Training accuracy', 'cnnbilstm1-wv-acc.pdf') \n",
    "# Loss\n",
    "plot_history([history.history], 'loss', 'val_loss', 'Epoch', 'Loss', 'Training loss', 'cnnbilstm1-wv-loss.pdf')\n",
    "acc, precision, recall, f1, conf_matrix = calculate_metrics(model, X_test, y_test)\n",
    "print('Model statistics with class predictions: ')\n",
    "print('Accuracy: %.4f' % acc)\n",
    "print('Precision: %.4f' % precision)\n",
    "print('Recall: %.4f' % recall)\n",
    "print('F1 score: %.4f' % f1)\n",
    "print('Confusion matrix:')\n",
    "print_conf_matrix(conf_matrix)"
   ]
  },
  {
   "cell_type": "code",
   "execution_count": 21,
   "id": "thirty-guyana",
   "metadata": {},
   "outputs": [
    {
     "name": "stderr",
     "output_type": "stream",
     "text": [
      "WARNING:absl:Found untraced functions such as lstm_cell_22_layer_call_fn, lstm_cell_22_layer_call_and_return_conditional_losses, lstm_cell_23_layer_call_fn, lstm_cell_23_layer_call_and_return_conditional_losses, lstm_cell_22_layer_call_fn while saving (showing 5 of 10). These functions will not be directly callable after loading.\n",
      "WARNING:absl:Found untraced functions such as lstm_cell_22_layer_call_fn, lstm_cell_22_layer_call_and_return_conditional_losses, lstm_cell_23_layer_call_fn, lstm_cell_23_layer_call_and_return_conditional_losses, lstm_cell_22_layer_call_fn while saving (showing 5 of 10). These functions will not be directly callable after loading.\n"
     ]
    },
    {
     "name": "stdout",
     "output_type": "stream",
     "text": [
      "INFO:tensorflow:Assets written to: ../../models/models/cnnbilstm-wv\\assets\n"
     ]
    },
    {
     "name": "stderr",
     "output_type": "stream",
     "text": [
      "INFO:tensorflow:Assets written to: ../../models/models/cnnbilstm-wv\\assets\n"
     ]
    }
   ],
   "source": [
    "# Save the model (weights, architecture)\n",
    "model.save('../../models/models/cnnbilstm-wv')"
   ]
  },
  {
   "cell_type": "markdown",
   "id": "divine-mission",
   "metadata": {},
   "source": [
    "# Model evaluation tests on IMDB dataset"
   ]
  },
  {
   "cell_type": "code",
   "execution_count": 22,
   "id": "entertaining-payday",
   "metadata": {},
   "outputs": [],
   "source": [
    "# IMDB dataset\n",
    "from keras.datasets import imdb\n",
    "word_count = 5000\n",
    "skip_words = 20\n",
    "(X_train_imdb, y_train_imdb), (X_test_imdb, y_test_imdb) = imdb.load_data(num_words=word_count, skip_top = skip_words)\n",
    "max_length = 500\n",
    "X_train_imdb = sequence.pad_sequences(X_train_imdb, maxlen=max_length)\n",
    "X_test_imdb = sequence.pad_sequences(X_test_imdb, maxlen=max_length)"
   ]
  },
  {
   "cell_type": "markdown",
   "id": "stylish-enough",
   "metadata": {},
   "source": [
    "Model performance evaluation"
   ]
  },
  {
   "cell_type": "code",
   "execution_count": 23,
   "id": "lyric-modeling",
   "metadata": {},
   "outputs": [
    {
     "data": {
      "image/png": "[encoded data removed]",
      "text/plain": [
       "<Figure size 432x288 with 1 Axes>"
      ]
     },
     "metadata": {
      "needs_background": "light"
     },
     "output_type": "display_data"
    },
    {
     "data": {
      "image/png": "[encoded data removed]",
      "text/plain": [
       "<Figure size 432x288 with 1 Axes>"
      ]
     },
     "metadata": {
      "needs_background": "light"
     },
     "output_type": "display_data"
    },
    {
     "name": "stdout",
     "output_type": "stream",
     "text": [
        "Model statistics with class predictions: \n",
        "Accuracy: 0.8762\n",
        "Precision: 0.8731\n",
        "Recall: 0.8803\n",
        "F1 score: 0.8767\n",
        "Confusion matrix:\n",
        "               pred:positive  pred:negative\n",
        "true:positive          10900           1600\n",
        "true:negative           1496          11004\n"
       ]
    }
   ],
   "source": [
    "embedding_layer = Embedding(word_count, 32, input_length=max_length)\n",
    "model = create_model(embedding_layer)\n",
    "Xtrain_imdb, Xval_imdb, ytrain_imdb, yval_imdb = train_test_split(X_train_imdb, y_train_imdb, random_state=seed, test_size=0.1, stratify=y_train_imdb, shuffle=True)\n",
    "history = model.fit(Xtrain_imdb, ytrain_imdb, validation_data=(Xval_imdb, yval_imdb), epochs=30, batch_size=batch, verbose = 0, callbacks=[early_stopping])\n",
    "# Accuracy\n",
    "plot_history([history.history], 'accuracy', 'val_accuracy', 'Epoch', 'Accuracy', 'Training accuracy', 'imdb_cnnbilstm1-acc.pdf') \n",
    "# Loss\n",
    "plot_history([history.history], 'loss', 'val_loss', 'Epoch', 'Loss', 'Training loss', 'imdb_cnnbilstm1-loss.pdf')\n",
    "acc, precision, recall, f1, conf_matrix = calculate_metrics(model, X_test_imdb, y_test_imdb)\n",
    "print('Model statistics with class predictions: ')\n",
    "print('Accuracy: %.4f' % acc)\n",
    "print('Precision: %.4f' % precision)\n",
    "print('Recall: %.4f' % recall)\n",
    "print('F1 score: %.4f' % f1)\n",
    "print('Confusion matrix:')\n",
    "print_conf_matrix(conf_matrix)"
   ]
  }
 ],
 "metadata": {
  "kernelspec": {
   "display_name": "Python 3",
   "language": "python",
   "name": "python3"
  },
  "language_info": {
   "codemirror_mode": {
    "name": "ipython",
    "version": 3
   },
   "file_extension": ".py",
   "mimetype": "text/x-python",
   "name": "python",
   "nbconvert_exporter": "python",
   "pygments_lexer": "ipython3",
   "version": "3.7.8"
  }
 },
 "nbformat": 4,
 "nbformat_minor": 5
}
