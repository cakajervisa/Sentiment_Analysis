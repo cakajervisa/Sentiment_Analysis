{
 "cells": [
  {
   "cell_type": "code",
   "execution_count": 1,
   "id": "competitive-sleeping",
   "metadata": {},
   "outputs": [],
   "source": [
    "import pandas as pd\n",
    "from sklearn.model_selection import train_test_split\n",
    "import numpy as np"
   ]
  },
  {
   "cell_type": "code",
   "execution_count": 2,
   "id": "dominant-fever",
   "metadata": {},
   "outputs": [],
   "source": [
    "cmt_pos = pd.read_csv('../../datasets/preprocessed/preprocessed_pos.csv')\n",
    "cmt_neg = pd.read_csv('../../datasets/preprocessed/preprocessed_neg.csv')"
   ]
  },
  {
   "cell_type": "markdown",
   "id": "cubic-flooring",
   "metadata": {},
   "source": [
    "There are more negative sentiment comments, therefore to have a balanced dataset some negative comments are dropped at random"
   ]
  },
  {
   "cell_type": "code",
   "execution_count": 3,
   "id": "limiting-fundamental",
   "metadata": {},
   "outputs": [],
   "source": [
    "negative_indices = cmt_neg.index.tolist()\n",
    "diff = abs(len(cmt_neg) - len(cmt_pos))\n",
    "indices = np.random.choice(negative_indices, diff, replace=False)\n",
    "cmt_neg = cmt_neg.drop(indices)\n",
    "df = pd.concat([cmt_pos, cmt_neg], ignore_index=True)"
   ]
  },
  {
   "cell_type": "code",
   "execution_count": 4,
   "id": "little-subject",
   "metadata": {},
   "outputs": [],
   "source": [
    "X = df.body\n",
    "Y = df.rating.values"
   ]
  },
  {
   "cell_type": "code",
   "execution_count": 5,
   "id": "medium-specialist",
   "metadata": {},
   "outputs": [],
   "source": [
    "seed = 42"
   ]
  },
  {
   "cell_type": "code",
   "execution_count": 6,
   "id": "limiting-chrome",
   "metadata": {},
   "outputs": [],
   "source": [
    "train, test = train_test_split(df, random_state=seed, test_size=0.2, stratify=df.rating)"
   ]
  },
  {
   "cell_type": "code",
   "execution_count": 7,
   "id": "underlying-complexity",
   "metadata": {},
   "outputs": [],
   "source": [
    "train, val = train_test_split(train, random_state=seed, test_size=0.125, stratify=train.rating)"
   ]
  },
  {
   "cell_type": "code",
   "execution_count": 8,
   "id": "noble-recording",
   "metadata": {},
   "outputs": [
    {
     "name": "stdout",
     "output_type": "stream",
     "text": [
      "Train set size:  (6041, 5)\n",
      "Test set size:  (1726, 5)\n",
      "Validation set size:  (863, 5)\n"
     ]
    }
   ],
   "source": [
    "print('Train set size: ', train.shape)\n",
    "print('Test set size: ', test.shape)\n",
    "print('Validation set size: ', val.shape)"
   ]
  },
  {
   "cell_type": "markdown",
   "id": "prompt-numbers",
   "metadata": {},
   "source": [
    "Save sets"
   ]
  },
  {
   "cell_type": "code",
   "execution_count": 9,
   "id": "wrapped-eating",
   "metadata": {},
   "outputs": [],
   "source": [
    "train.to_csv('../../datasets/split/train.csv', index=False)\n",
    "test.to_csv('../../datasets/split/test.csv', index=False)\n",
    "val.to_csv('../../datasets/split/val.csv', index=False)"
   ]
  }
 ],
 "metadata": {
  "kernelspec": {
   "display_name": "Python 3",
   "language": "python",
   "name": "python3"
  },
  "language_info": {
   "codemirror_mode": {
    "name": "ipython",
    "version": 3
   },
   "file_extension": ".py",
   "mimetype": "text/x-python",
   "name": "python",
   "nbconvert_exporter": "python",
   "pygments_lexer": "ipython3",
   "version": "3.7.8"
  }
 },
 "nbformat": 4,
 "nbformat_minor": 5
}
